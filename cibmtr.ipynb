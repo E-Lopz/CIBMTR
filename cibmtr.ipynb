{
 "cells": [
  {
   "cell_type": "code",
   "execution_count": 1,
   "id": "2aca70a1",
   "metadata": {
    "execution": {
     "iopub.execute_input": "2024-12-11T23:44:37.144342Z",
     "iopub.status.busy": "2024-12-11T23:44:37.143856Z",
     "iopub.status.idle": "2024-12-11T23:44:39.941161Z",
     "shell.execute_reply": "2024-12-11T23:44:39.940037Z"
    },
    "papermill": {
     "duration": 2.804738,
     "end_time": "2024-12-11T23:44:39.943652",
     "exception": false,
     "start_time": "2024-12-11T23:44:37.138914",
     "status": "completed"
    },
    "tags": []
   },
   "outputs": [],
   "source": [
    "# Imports\n",
    "import os\n",
    "import numpy as np\n",
    "import pandas as pd\n",
    "from sklearn.preprocessing import OneHotEncoder, StandardScaler, OrdinalEncoder\n",
    "from sklearn.linear_model import LogisticRegression\n",
    "from sklearn.ensemble import RandomForestClassifier\n",
    "from sklearn.model_selection import train_test_split\n",
    "from sklearn.metrics import roc_auc_score, accuracy_score, confusion_matrix"
   ]
  },
  {
   "cell_type": "code",
   "execution_count": 2,
   "id": "c84490d1",
   "metadata": {
    "execution": {
     "iopub.execute_input": "2024-12-11T23:44:39.951166Z",
     "iopub.status.busy": "2024-12-11T23:44:39.950483Z",
     "iopub.status.idle": "2024-12-11T23:44:39.967242Z",
     "shell.execute_reply": "2024-12-11T23:44:39.966021Z"
    },
    "papermill": {
     "duration": 0.023115,
     "end_time": "2024-12-11T23:44:39.969713",
     "exception": false,
     "start_time": "2024-12-11T23:44:39.946598",
     "status": "completed"
    },
    "tags": []
   },
   "outputs": [],
   "source": [
    "class DataParser:\n",
    "    def __init__(self, file_path, label_col=None, encoder = None):\n",
    "        \"\"\"\n",
    "        Initialize the DataParser.\n",
    "\n",
    "        :param file_path: Path to the CSV file (training or test).\n",
    "        :param label_col: The label column name for training data; None for test data.\n",
    "        \"\"\"\n",
    "        # Load the data\n",
    "        data_df = pd.read_csv(file_path)\n",
    "        self.encoder = encoder\n",
    "        self.test = False\n",
    "\n",
    "        # Extract features and labels (if present)\n",
    "        if label_col:\n",
    "            self.data_features = data_df.drop(columns=[label_col, 'efs_time'], errors='ignore')\n",
    "            self.data_label = data_df[label_col].to_numpy()\n",
    "        else:\n",
    "            self.data_features = data_df\n",
    "            self.data_label = None\n",
    "\n",
    "    def normalize_data(self, binary_cols=None, ordinal_cols=None):\n",
    "        \"\"\"\n",
    "        Normalize and preprocess data, handling binary, ordinal, and other categorical features.\n",
    "    \n",
    "        :param binary_cols: List of binary columns to encode.\n",
    "        :param ordinal_cols: List of ordinal columns to encode.\n",
    "        \"\"\"\n",
    "        if binary_cols is None:\n",
    "            binary_cols = []\n",
    "        if ordinal_cols is None:\n",
    "            ordinal_cols = []\n",
    "    \n",
    "        # Treat missing values\n",
    "        self.data_features = self.data_features.fillna({\n",
    "            **{col: 'Missing' for col in binary_cols + ordinal_cols},  # Placeholder for binary/ordinal categorical\n",
    "            **{col: self.data_features[col].mean() for col in self.data_features.select_dtypes(include=['int64', 'float64']).columns}  # Mean for numerical\n",
    "        })\n",
    "    \n",
    "        # Handle binary data\n",
    "        if binary_cols:\n",
    "            self.data_features[binary_cols] = self.data_features[binary_cols].replace({\n",
    "                'No': 0, 'Yes': 1, 'Not done': -1, 'nan': -1, 'Missing':-1\n",
    "            })\n",
    "    \n",
    "        # Handle ordinal data\n",
    "        if ordinal_cols:\n",
    "            ordinal_encoder = OrdinalEncoder()\n",
    "            self.data_features[ordinal_cols] = ordinal_encoder.fit_transform(self.data_features[ordinal_cols])\n",
    "    \n",
    "        # Identify remaining categorical columns (not binary or ordinal)\n",
    "        categorical_cols = self.data_features.select_dtypes(include=['object']).columns\n",
    "        other_categorical_cols = list(set(categorical_cols) - set(binary_cols) - set(ordinal_cols))\n",
    "    \n",
    "        # Handle remaining categorical data with one-hot encoding\n",
    "        if (other_categorical_cols and not self.encoder):\n",
    "            ohe = OneHotEncoder(sparse_output=False, handle_unknown='ignore')\n",
    "            encoded_nominal = ohe.fit_transform(self.data_features[other_categorical_cols])\n",
    "            nominal_df = pd.DataFrame(encoded_nominal, columns=ohe.get_feature_names_out(other_categorical_cols))\n",
    "            self.data_features = self.data_features.drop(columns=other_categorical_cols)\n",
    "            self.data_features = pd.concat([self.data_features, nominal_df], axis=1)\n",
    "            self.encoder = ohe\n",
    "        elif self.test:\n",
    "            ohe = self.encoder\n",
    "            encoded_nominal = ohe.transform(self.data_features[other_categorical_cols])\n",
    "            nominal_df = pd.DataFrame(encoded_nominal, columns=ohe.get_feature_names_out(other_categorical_cols))\n",
    "            self.data_features = self.data_features.drop(columns=other_categorical_cols)\n",
    "            self.data_features = pd.concat([self.data_features, nominal_df], axis=1)\n",
    "    \n",
    "        # Normalize numerical features\n",
    "        numerical_features = self.data_features.select_dtypes(include=['int64', 'float64']).columns\n",
    "        if len(numerical_features) > 0:\n",
    "            scaler = StandardScaler()\n",
    "            self.data_features[numerical_features] = scaler.fit_transform(self.data_features[numerical_features])\n",
    "    \n",
    "        self.data_features = self.data_features.to_numpy()"
   ]
  },
  {
   "cell_type": "code",
   "execution_count": 3,
   "id": "3cb47663",
   "metadata": {
    "execution": {
     "iopub.execute_input": "2024-12-11T23:44:39.976517Z",
     "iopub.status.busy": "2024-12-11T23:44:39.976138Z",
     "iopub.status.idle": "2024-12-11T23:44:41.194338Z",
     "shell.execute_reply": "2024-12-11T23:44:41.192897Z"
    },
    "papermill": {
     "duration": 1.224253,
     "end_time": "2024-12-11T23:44:41.196587",
     "exception": false,
     "start_time": "2024-12-11T23:44:39.972334",
     "status": "completed"
    },
    "tags": []
   },
   "outputs": [
    {
     "name": "stderr",
     "output_type": "stream",
     "text": [
      "/tmp/ipykernel_17/192324022.py:42: FutureWarning: Downcasting behavior in `replace` is deprecated and will be removed in a future version. To retain the old behavior, explicitly call `result.infer_objects(copy=False)`. To opt-in to the future behavior, set `pd.set_option('future.no_silent_downcasting', True)`\n",
      "  self.data_features[binary_cols] = self.data_features[binary_cols].replace({\n"
     ]
    },
    {
     "name": "stdout",
     "output_type": "stream",
     "text": [
      "Features shape: (28800, 187)\n",
      "Labels shape: (28800,)\n"
     ]
    }
   ],
   "source": [
    "# Load the train.csv into a DataFrame\n",
    "train_file_path = \"/kaggle/input/equity-post-HCT-survival-predictions/train.csv\" \n",
    "\n",
    "binary_cols = ['diabetes', 'psych_disturb', 'arrhythmia']\n",
    "ordinal_cols = ['cyto_score', 'dri_score']\n",
    "\n",
    "data_parser = DataParser(file_path=train_file_path,label_col='efs')\n",
    "data_parser.normalize_data(binary_cols=binary_cols, ordinal_cols=ordinal_cols)\n",
    "\n",
    "\n",
    "\n",
    "\n",
    "# Access parsed data\n",
    "print(\"Features shape:\", data_parser.data_features.shape)\n",
    "print(\"Labels shape:\", data_parser.data_label.shape)\n",
    "\n"
   ]
  },
  {
   "cell_type": "code",
   "execution_count": 4,
   "id": "fcd711ba",
   "metadata": {
    "execution": {
     "iopub.execute_input": "2024-12-11T23:44:41.203863Z",
     "iopub.status.busy": "2024-12-11T23:44:41.203460Z",
     "iopub.status.idle": "2024-12-11T23:44:42.190384Z",
     "shell.execute_reply": "2024-12-11T23:44:42.188237Z"
    },
    "papermill": {
     "duration": 0.996041,
     "end_time": "2024-12-11T23:44:42.195536",
     "exception": false,
     "start_time": "2024-12-11T23:44:41.199495",
     "status": "completed"
    },
    "tags": []
   },
   "outputs": [
    {
     "name": "stdout",
     "output_type": "stream",
     "text": [
      "Accuracy: 0.6859\n",
      "ROC AUC Score: 0.7501\n",
      "Confusion Matrix:\n",
      "[[1539 1115]\n",
      " [ 694 2412]]\n"
     ]
    }
   ],
   "source": [
    "# Split the data into training and testing sets\n",
    "X, y = data_parser.data_features, data_parser.data_label\n",
    "\n",
    "X_train, X_test, y_train, y_test = train_test_split(X, y, test_size=0.2, random_state=240402, stratify=y)\n",
    "\n",
    "# Train the Logistic Regression model\n",
    "clf = LogisticRegression(random_state=0, max_iter=1000)\n",
    "clf.fit(X_train, y_train)\n",
    "\n",
    "# Make predictions\n",
    "y_pred = clf.predict(X_test)\n",
    "y_pred_proba = clf.predict_proba(X_test)[:, 1]  # Get probabilities for the positive class (efs = 1)\n",
    "\n",
    "# Evaluate the model\n",
    "accuracy = accuracy_score(y_test, y_pred)\n",
    "roc_auc = roc_auc_score(y_test, y_pred_proba)\n",
    "conf_matrix = confusion_matrix(y_test, y_pred)\n",
    "\n",
    "print(f\"Accuracy: {accuracy:.4f}\")\n",
    "print(f\"ROC AUC Score: {roc_auc:.4f}\")\n",
    "print(\"Confusion Matrix:\")\n",
    "print(conf_matrix)\n"
   ]
  },
  {
   "cell_type": "code",
   "execution_count": 5,
   "id": "2c014bc2",
   "metadata": {
    "execution": {
     "iopub.execute_input": "2024-12-11T23:44:42.214484Z",
     "iopub.status.busy": "2024-12-11T23:44:42.213337Z",
     "iopub.status.idle": "2024-12-11T23:44:48.395814Z",
     "shell.execute_reply": "2024-12-11T23:44:48.394410Z"
    },
    "papermill": {
     "duration": 6.194894,
     "end_time": "2024-12-11T23:44:48.398041",
     "exception": false,
     "start_time": "2024-12-11T23:44:42.203147",
     "status": "completed"
    },
    "tags": []
   },
   "outputs": [
    {
     "name": "stdout",
     "output_type": "stream",
     "text": [
      "Accuracy: 0.6773\n",
      "ROC AUC Score: 0.7334\n",
      "Confusion Matrix:\n",
      "[[1466 1188]\n",
      " [ 671 2435]]\n"
     ]
    }
   ],
   "source": [
    "clf_for = RandomForestClassifier(max_depth=100, random_state=0)\n",
    "clf_for.fit(X_train, y_train)\n",
    "\n",
    "y_pred = clf_for.predict(X_test)\n",
    "y_pred_proba = clf_for.predict_proba(X_test)[:, 1]  # Get probabilities for the positive class (efs = 1)\n",
    "\n",
    "# Evaluate the model\n",
    "accuracy = accuracy_score(y_test, y_pred)\n",
    "roc_auc = roc_auc_score(y_test, y_pred_proba)\n",
    "conf_matrix = confusion_matrix(y_test, y_pred)\n",
    "\n",
    "print(f\"Accuracy: {accuracy:.4f}\")\n",
    "print(f\"ROC AUC Score: {roc_auc:.4f}\")\n",
    "print(\"Confusion Matrix:\")\n",
    "print(conf_matrix)\n"
   ]
  },
  {
   "cell_type": "code",
   "execution_count": 6,
   "id": "e351b80c",
   "metadata": {
    "execution": {
     "iopub.execute_input": "2024-12-11T23:44:48.405139Z",
     "iopub.status.busy": "2024-12-11T23:44:48.404722Z",
     "iopub.status.idle": "2024-12-11T23:44:48.467709Z",
     "shell.execute_reply": "2024-12-11T23:44:48.466447Z"
    },
    "papermill": {
     "duration": 0.06969,
     "end_time": "2024-12-11T23:44:48.470547",
     "exception": false,
     "start_time": "2024-12-11T23:44:48.400857",
     "status": "completed"
    },
    "tags": []
   },
   "outputs": [
    {
     "name": "stdout",
     "output_type": "stream",
     "text": [
      "True\n",
      "Features shape: (3, 187)\n"
     ]
    },
    {
     "name": "stderr",
     "output_type": "stream",
     "text": [
      "/tmp/ipykernel_17/192324022.py:42: FutureWarning: Downcasting behavior in `replace` is deprecated and will be removed in a future version. To retain the old behavior, explicitly call `result.infer_objects(copy=False)`. To opt-in to the future behavior, set `pd.set_option('future.no_silent_downcasting', True)`\n",
      "  self.data_features[binary_cols] = self.data_features[binary_cols].replace({\n"
     ]
    }
   ],
   "source": [
    "test_file_path = \"/kaggle/input/equity-post-HCT-survival-predictions/test.csv\"\n",
    "\n",
    "test_parser = DataParser(file_path=test_file_path)\n",
    "test_parser.encoder = data_parser.encoder\n",
    "test_parser.test = True\n",
    "print(test_parser.test)\n",
    "test_parser.normalize_data(binary_cols=binary_cols, ordinal_cols=ordinal_cols)\n",
    "\n",
    "\n",
    "# Access parsed data\n",
    "print(\"Features shape:\", test_parser.data_features.shape)"
   ]
  },
  {
   "cell_type": "code",
   "execution_count": 7,
   "id": "83e45318",
   "metadata": {
    "execution": {
     "iopub.execute_input": "2024-12-11T23:44:48.478444Z",
     "iopub.status.busy": "2024-12-11T23:44:48.477531Z",
     "iopub.status.idle": "2024-12-11T23:44:48.498392Z",
     "shell.execute_reply": "2024-12-11T23:44:48.497084Z"
    },
    "papermill": {
     "duration": 0.027186,
     "end_time": "2024-12-11T23:44:48.500645",
     "exception": false,
     "start_time": "2024-12-11T23:44:48.473459",
     "status": "completed"
    },
    "tags": []
   },
   "outputs": [
    {
     "name": "stdout",
     "output_type": "stream",
     "text": [
      "[0.26 0.71 0.23]\n",
      "Submission file created: /kaggle/working/submission.csv\n"
     ]
    }
   ],
   "source": [
    "\n",
    "# Process test data\n",
    "test_df = pd.read_csv(test_file_path)\n",
    "\n",
    "processed_test_features = test_parser.data_features\n",
    "\n",
    "\n",
    "# Predict probabilities for test data\n",
    "test_pred_proba = clf_for.predict_proba(processed_test_features)[:, 1]\n",
    "print(test_pred_proba)\n",
    "\n",
    "# Prepare the submission file\n",
    "submission_df = pd.DataFrame({\n",
    "    'ID': test_df['ID'],  # Ensure 'id' exists in the test dataset\n",
    "    'prediction': test_pred_proba  # Predicted probabilities\n",
    "})\n",
    "\n",
    "# Save the submission file\n",
    "submission_file_path = \"/kaggle/working/submission.csv\"\n",
    "submission_df.to_csv(submission_file_path, index=False)\n",
    "print(f\"Submission file created: {submission_file_path}\")\n"
   ]
  }
 ],
 "metadata": {
  "kaggle": {
   "accelerator": "none",
   "dataSources": [
    {
     "databundleVersionId": 10381525,
     "sourceId": 70942,
     "sourceType": "competition"
    }
   ],
   "dockerImageVersionId": 30804,
   "isGpuEnabled": false,
   "isInternetEnabled": false,
   "language": "python",
   "sourceType": "notebook"
  },
  "kernelspec": {
   "display_name": "Python 3",
   "language": "python",
   "name": "python3"
  },
  "language_info": {
   "codemirror_mode": {
    "name": "ipython",
    "version": 3
   },
   "file_extension": ".py",
   "mimetype": "text/x-python",
   "name": "python",
   "nbconvert_exporter": "python",
   "pygments_lexer": "ipython3",
   "version": "3.10.14"
  },
  "papermill": {
   "default_parameters": {},
   "duration": 14.893072,
   "end_time": "2024-12-11T23:44:49.224339",
   "environment_variables": {},
   "exception": null,
   "input_path": "__notebook__.ipynb",
   "output_path": "__notebook__.ipynb",
   "parameters": {},
   "start_time": "2024-12-11T23:44:34.331267",
   "version": "2.6.0"
  }
 },
 "nbformat": 4,
 "nbformat_minor": 5
}
